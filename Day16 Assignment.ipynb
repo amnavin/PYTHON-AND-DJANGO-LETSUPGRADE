{
 "cells": [
  {
   "cell_type": "markdown",
   "metadata": {},
   "source": [
    "# Question 1:\n",
    "Make a regular expression to get all IP addresses from the below link and Extract the IP\n",
    "addresses.\n",
    "https://study-ccna.com/classes-of-ip-addresses/"
   ]
  },
  {
   "cell_type": "code",
   "execution_count": 2,
   "metadata": {},
   "outputs": [
    {
     "name": "stdout",
     "output_type": "stream",
     "text": [
      "0.0.0.0\n",
      "127.0.0.0\n",
      "172.55.54.74\n",
      "10.50.120.7\n",
      "172.16.55.13\n",
      "172.16.254.3\n",
      "11.5.4.3\n",
      "10.47.8.4\n",
      "169.254.0.0\n"
     ]
    }
   ],
   "source": [
    "  \n",
    "import requests, re\n",
    "url = \"https://study-ccna.com/classes-of-ip-addresses/\"\n",
    "\n",
    "r = requests.get(url)\n",
    "\n",
    "data = r.text\n",
    "ip = r'(\\d{1,3}\\.\\d{1,3}\\.\\d{1,3}\\.\\d{1,3})'\n",
    "\n",
    "list1_ip = re.findall(ip, data)\n",
    "list1_ip = list(set(list1_ip))\n",
    "for each in list1_ip:\n",
    "\tprint(each)"
   ]
  },
  {
   "cell_type": "code",
   "execution_count": null,
   "metadata": {},
   "outputs": [],
   "source": []
  }
 ],
 "metadata": {
  "kernelspec": {
   "display_name": "Python 3",
   "language": "python",
   "name": "python3"
  },
  "language_info": {
   "codemirror_mode": {
    "name": "ipython",
    "version": 3
   },
   "file_extension": ".py",
   "mimetype": "text/x-python",
   "name": "python",
   "nbconvert_exporter": "python",
   "pygments_lexer": "ipython3",
   "version": "3.7.3"
  }
 },
 "nbformat": 4,
 "nbformat_minor": 2
}
